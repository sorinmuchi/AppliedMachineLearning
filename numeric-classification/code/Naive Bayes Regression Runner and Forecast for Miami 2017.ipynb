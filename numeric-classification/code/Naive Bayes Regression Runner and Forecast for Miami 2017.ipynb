{
 "cells": [
  {
   "cell_type": "code",
   "execution_count": 1,
   "metadata": {
    "collapsed": false
   },
   "outputs": [
    {
     "name": "stdout",
     "output_type": "stream",
     "text": [
      "C:\\Users\\Sorin\\Desktop\\COMP 551\\Assignments\n"
     ]
    }
   ],
   "source": [
    "cd C:\\Users\\Sorin\\Desktop\\COMP 551\\Assignments"
   ]
  },
  {
   "cell_type": "code",
   "execution_count": 2,
   "metadata": {
    "collapsed": false
   },
   "outputs": [],
   "source": [
    "#!/usr/bin/env python\n",
    "\n",
    "# Naive Bayes Classifier for Gaussian Distribution input data\n",
    "# TODO: add reference in report to GitHub link\n",
    "\n",
    "import numpy as np\n",
    "import pandas as pd\n",
    "import matplotlib.pyplot as plt\n",
    "from scipy.stats import t\n",
    "\n",
    "\n",
    "class NaiveBayesClassifier:\n",
    "  def trainClassifier(self, X, Y):\n",
    "    self.pyy = []\n",
    "    self.tinfo = []\n",
    "    N, D = X.shape\n",
    "    for c in (0, 1):\n",
    "      pyy_c = (1.0 + np.sum(Y == c)) / (N + 1.0 + 1.0)\n",
    "      self.pyy.append(pyy_c)\n",
    "\n",
    "      Xc = X[Y == c]\n",
    "      tinfo_c = []\n",
    "      for d in xrange(D):\n",
    "        xbar = Xc[:,d].mean()\n",
    "        mu = N*xbar / (1.0 + N)\n",
    "        precision = 1.0 + N\n",
    "        alpha = 1.0 + N/2.0\n",
    "        beta = 1.0 + 0.5*Xc[:,d].var()*N + 0.5*N*(xbar*xbar)/precision\n",
    "\n",
    "        tinfo_cd = {\n",
    "          'df': 2*alpha,\n",
    "          'center': mu,\n",
    "          'scale': np.sqrt( beta*(precision + 1)/(alpha * precision) ),\n",
    "        }\n",
    "        tinfo_c.append(tinfo_cd)\n",
    "      self.tinfo.append(tinfo_c)\n",
    "\n",
    "  def predictProbabilities(self, X):\n",
    "    N, D = X.shape\n",
    "\n",
    "    posteriors = np.zeros((N, 2))\n",
    "    for c in (0, 1):\n",
    "      probability_matrix = np.zeros((N, D))\n",
    "      for d in xrange(D):\n",
    "        tinfo_cd = self.tinfo[c][d]\n",
    "        pdf_d = t.pdf(X[:,d], df=tinfo_cd['df'], loc=tinfo_cd['center'], scale=tinfo_cd['scale'])\n",
    "        probability_matrix[:,d] = pdf_d\n",
    "      posteriors_c = np.prod(probability_matrix, axis=1)*self.pyy[c]\n",
    "      posteriors[:,c] = posteriors_c\n",
    "    P = posteriors[:,1] / np.sum(posteriors, axis=1)\n",
    "    return np.round(P)\n",
    "\n",
    "  def scorePrediction(self, X, Y):\n",
    "    return np.mean(self.predictProbabilities(X) == Y)\n",
    "\n",
    "  def createConfusionMatrix(self, X, Y):\n",
    "    P = self.predictProbabilities(X)\n",
    "    M = np.zeros((2, 2))\n",
    "    M[0,0] = np.sum(P[Y == 0] == Y[Y == 0])\n",
    "    M[0,1] = np.sum(P[Y == 0] != Y[Y == 0])\n",
    "    M[1,0] = np.sum(P[Y == 1] != Y[Y == 1])\n",
    "    M[1,1] = np.sum(P[Y == 1] == Y[Y == 1])\n",
    "    return M\n",
    "\n",
    "  def calculatePredictionAccuracy(y1,y):\n",
    "    y = np.ravel(y)\n",
    "    acc = float(100*(y1==y).sum())/ float(y.shape[0])\n",
    "    return acc\n",
    "\n",
    "  def plotROCCurve(y1,y2):\n",
    "    y2 = np.ravel(y2)\n",
    "    from sklearn.metrics import roc_curve,auc\n",
    "    fp,tp,thersh = roc_curve(y1,y2)\n",
    "    curve_area=auc(fp,tp)\n",
    "    plt.title('ROC Curve')\n",
    "    plt.plot(fp,tp,'b', label = 'Area Under Curve = %0.2f'% curve_area)\n",
    "    plt.legend(loc = 'lower right')\n",
    "    plt.plot([0,1],[0,1],'r--')\n",
    "    plt.xlim([-0.1,1.2])\n",
    "    plt.ylim([-0.1,1.2])\n",
    "    plt.ylabel('True Positive Rate')\n",
    "    plt.xlabel('False Positive Rate')\n",
    "    plt.show()\n",
    "    \n",
    "    \n",
    "if __name__ == '__main__':\n",
    "\n",
    "  # read in data\n",
    "  dataset_train = pd.read_csv('train.csv')\n",
    "  dataset_test = pd.read_csv('test.csv')\n",
    "  dataset_forecast = pd.read_csv('forecast.csv')\n",
    "\n",
    "  Xtrain = dataset_train.iloc[:, [1,2,3,4]].values\n",
    "  Ytrain = dataset_train.iloc[:, [5]].values.ravel()\n",
    "\n",
    "  Xtest = dataset_test.iloc[:, [1,2,3,4]].values\n",
    "  Ytest = dataset_test.iloc[:, [5]].values.ravel()\n",
    "\n",
    "  Xforecast = dataset_forecast.iloc[:, [1,2,3,4]].values\n",
    "  Nforecast = dataset_forecast.iloc[:, [5]].values.ravel()\n",
    "\n",
    "  # train model\n",
    "  model = NaiveBayesClassifier()\n",
    "  model.trainClassifier(Xtrain, Ytrain)\n",
    "\n",
    "  # test model accuracy\n",
    "  print \"train accuracy:\", model.scorePrediction(Xtrain, Ytrain)\n",
    "  print \"test accuracy:\", model.scorePrediction(Xtest, Ytest)\n",
    "  \n",
    "\n",
    "  # generate confusion matrix\n",
    "  M = model.createConfusionMatrix(Xtest, Ytest)\n",
    "  print \"confusion matrix:\"\n",
    "  print M\n",
    "  print \"N:\", len(Ytest)\n",
    "  print \"sum(M):\", M.sum()\n",
    "\n",
    "  # forecast 2017 attendance\n",
    "  forecast = model.predictProbabilities(Xforecast)\n",
    "  attendees = np.column_stack((Nforecast, forecast))\n",
    "    \n",
    "  # save 2017 forecast to file\n",
    "  attendees_df = pd.DataFrame(data=attendees, columns=['Name', 'Attends Miami 2017'])\n",
    "  attendees_df.to_csv(\"NaiveBayesForecastMiami2017.csv\")"
   ]
  },
  {
   "cell_type": "code",
   "execution_count": 10,
   "metadata": {
    "collapsed": false
   },
   "outputs": [],
   "source": [
    "#calculatePredictionAccuracy(Ytest, Y_forecast)"
   ]
  },
  {
   "cell_type": "code",
   "execution_count": null,
   "metadata": {
    "collapsed": true
   },
   "outputs": [],
   "source": []
  },
  {
   "cell_type": "code",
   "execution_count": null,
   "metadata": {
    "collapsed": true
   },
   "outputs": [],
   "source": []
  },
  {
   "cell_type": "code",
   "execution_count": null,
   "metadata": {
    "collapsed": true
   },
   "outputs": [],
   "source": []
  },
  {
   "cell_type": "code",
   "execution_count": null,
   "metadata": {
    "collapsed": true
   },
   "outputs": [],
   "source": []
  },
  {
   "cell_type": "code",
   "execution_count": null,
   "metadata": {
    "collapsed": true
   },
   "outputs": [],
   "source": []
  },
  {
   "cell_type": "code",
   "execution_count": null,
   "metadata": {
    "collapsed": true
   },
   "outputs": [],
   "source": []
  },
  {
   "cell_type": "code",
   "execution_count": null,
   "metadata": {
    "collapsed": true
   },
   "outputs": [],
   "source": []
  },
  {
   "cell_type": "code",
   "execution_count": null,
   "metadata": {
    "collapsed": true
   },
   "outputs": [],
   "source": []
  },
  {
   "cell_type": "code",
   "execution_count": null,
   "metadata": {
    "collapsed": true
   },
   "outputs": [],
   "source": []
  },
  {
   "cell_type": "code",
   "execution_count": null,
   "metadata": {
    "collapsed": true
   },
   "outputs": [],
   "source": []
  },
  {
   "cell_type": "code",
   "execution_count": null,
   "metadata": {
    "collapsed": true
   },
   "outputs": [],
   "source": []
  },
  {
   "cell_type": "code",
   "execution_count": null,
   "metadata": {
    "collapsed": true
   },
   "outputs": [],
   "source": []
  },
  {
   "cell_type": "code",
   "execution_count": null,
   "metadata": {
    "collapsed": true
   },
   "outputs": [],
   "source": []
  },
  {
   "cell_type": "code",
   "execution_count": null,
   "metadata": {
    "collapsed": true
   },
   "outputs": [],
   "source": []
  },
  {
   "cell_type": "code",
   "execution_count": null,
   "metadata": {
    "collapsed": true
   },
   "outputs": [],
   "source": []
  },
  {
   "cell_type": "code",
   "execution_count": null,
   "metadata": {
    "collapsed": true
   },
   "outputs": [],
   "source": []
  },
  {
   "cell_type": "code",
   "execution_count": null,
   "metadata": {
    "collapsed": true
   },
   "outputs": [],
   "source": []
  },
  {
   "cell_type": "code",
   "execution_count": null,
   "metadata": {
    "collapsed": true
   },
   "outputs": [],
   "source": []
  },
  {
   "cell_type": "code",
   "execution_count": null,
   "metadata": {
    "collapsed": true
   },
   "outputs": [],
   "source": []
  },
  {
   "cell_type": "code",
   "execution_count": null,
   "metadata": {
    "collapsed": true
   },
   "outputs": [],
   "source": []
  },
  {
   "cell_type": "code",
   "execution_count": null,
   "metadata": {
    "collapsed": true
   },
   "outputs": [],
   "source": []
  },
  {
   "cell_type": "code",
   "execution_count": null,
   "metadata": {
    "collapsed": true
   },
   "outputs": [],
   "source": []
  },
  {
   "cell_type": "code",
   "execution_count": null,
   "metadata": {
    "collapsed": true
   },
   "outputs": [],
   "source": []
  },
  {
   "cell_type": "code",
   "execution_count": null,
   "metadata": {
    "collapsed": true
   },
   "outputs": [],
   "source": []
  },
  {
   "cell_type": "code",
   "execution_count": null,
   "metadata": {
    "collapsed": true
   },
   "outputs": [],
   "source": []
  },
  {
   "cell_type": "code",
   "execution_count": null,
   "metadata": {
    "collapsed": true
   },
   "outputs": [],
   "source": []
  },
  {
   "cell_type": "code",
   "execution_count": null,
   "metadata": {
    "collapsed": true
   },
   "outputs": [],
   "source": []
  },
  {
   "cell_type": "code",
   "execution_count": null,
   "metadata": {
    "collapsed": true
   },
   "outputs": [],
   "source": []
  },
  {
   "cell_type": "code",
   "execution_count": null,
   "metadata": {
    "collapsed": true
   },
   "outputs": [],
   "source": []
  },
  {
   "cell_type": "code",
   "execution_count": null,
   "metadata": {
    "collapsed": true
   },
   "outputs": [],
   "source": []
  },
  {
   "cell_type": "code",
   "execution_count": null,
   "metadata": {
    "collapsed": true
   },
   "outputs": [],
   "source": []
  },
  {
   "cell_type": "code",
   "execution_count": null,
   "metadata": {
    "collapsed": true
   },
   "outputs": [],
   "source": []
  },
  {
   "cell_type": "code",
   "execution_count": null,
   "metadata": {
    "collapsed": true
   },
   "outputs": [],
   "source": []
  },
  {
   "cell_type": "code",
   "execution_count": null,
   "metadata": {
    "collapsed": true
   },
   "outputs": [],
   "source": []
  },
  {
   "cell_type": "code",
   "execution_count": null,
   "metadata": {
    "collapsed": true
   },
   "outputs": [],
   "source": []
  },
  {
   "cell_type": "code",
   "execution_count": null,
   "metadata": {
    "collapsed": true
   },
   "outputs": [],
   "source": []
  },
  {
   "cell_type": "code",
   "execution_count": null,
   "metadata": {
    "collapsed": true
   },
   "outputs": [],
   "source": []
  },
  {
   "cell_type": "code",
   "execution_count": null,
   "metadata": {
    "collapsed": true
   },
   "outputs": [],
   "source": []
  },
  {
   "cell_type": "code",
   "execution_count": null,
   "metadata": {
    "collapsed": true
   },
   "outputs": [],
   "source": []
  },
  {
   "cell_type": "code",
   "execution_count": null,
   "metadata": {
    "collapsed": true
   },
   "outputs": [],
   "source": []
  },
  {
   "cell_type": "code",
   "execution_count": null,
   "metadata": {
    "collapsed": true
   },
   "outputs": [],
   "source": []
  },
  {
   "cell_type": "code",
   "execution_count": null,
   "metadata": {
    "collapsed": true
   },
   "outputs": [],
   "source": []
  },
  {
   "cell_type": "code",
   "execution_count": null,
   "metadata": {
    "collapsed": true
   },
   "outputs": [],
   "source": []
  },
  {
   "cell_type": "code",
   "execution_count": null,
   "metadata": {
    "collapsed": true
   },
   "outputs": [],
   "source": []
  },
  {
   "cell_type": "code",
   "execution_count": null,
   "metadata": {
    "collapsed": true
   },
   "outputs": [],
   "source": []
  },
  {
   "cell_type": "code",
   "execution_count": null,
   "metadata": {
    "collapsed": true
   },
   "outputs": [],
   "source": []
  },
  {
   "cell_type": "code",
   "execution_count": null,
   "metadata": {
    "collapsed": true
   },
   "outputs": [],
   "source": []
  },
  {
   "cell_type": "code",
   "execution_count": null,
   "metadata": {
    "collapsed": true
   },
   "outputs": [],
   "source": []
  },
  {
   "cell_type": "code",
   "execution_count": null,
   "metadata": {
    "collapsed": true
   },
   "outputs": [],
   "source": []
  },
  {
   "cell_type": "code",
   "execution_count": null,
   "metadata": {
    "collapsed": true
   },
   "outputs": [],
   "source": []
  },
  {
   "cell_type": "code",
   "execution_count": null,
   "metadata": {
    "collapsed": true
   },
   "outputs": [],
   "source": []
  },
  {
   "cell_type": "code",
   "execution_count": null,
   "metadata": {
    "collapsed": false
   },
   "outputs": [],
   "source": []
  },
  {
   "cell_type": "code",
   "execution_count": null,
   "metadata": {
    "collapsed": true
   },
   "outputs": [],
   "source": []
  },
  {
   "cell_type": "code",
   "execution_count": null,
   "metadata": {
    "collapsed": true
   },
   "outputs": [],
   "source": []
  }
 ],
 "metadata": {
  "kernelspec": {
   "display_name": "Python [conda root]",
   "language": "python",
   "name": "conda-root-py"
  },
  "language_info": {
   "codemirror_mode": {
    "name": "ipython",
    "version": 2
   },
   "file_extension": ".py",
   "mimetype": "text/x-python",
   "name": "python",
   "nbconvert_exporter": "python",
   "pygments_lexer": "ipython2",
   "version": "2.7.12"
  }
 },
 "nbformat": 4,
 "nbformat_minor": 1
}
