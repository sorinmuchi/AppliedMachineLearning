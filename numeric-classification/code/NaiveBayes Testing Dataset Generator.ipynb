{
 "cells": [
  {
   "cell_type": "code",
   "execution_count": 1,
   "metadata": {
    "collapsed": false
   },
   "outputs": [
    {
     "name": "stdout",
     "output_type": "stream",
     "text": [
      "C:\\Users\\Sorin\\Desktop\\COMP 551\\Assignments\n"
     ]
    }
   ],
   "source": [
    "cd C:\\Users\\Sorin\\Desktop\\COMP 551\\Assignments"
   ]
  },
  {
   "cell_type": "code",
   "execution_count": 2,
   "metadata": {
    "collapsed": true
   },
   "outputs": [],
   "source": [
    "# coding: utf-8\n",
    "\n",
    "import matplotlib.pyplot as plt\n",
    "import numpy as np\n",
    "import pandas as pd\n",
    "from pandas import Series, DataFrame\n",
    "from sklearn import preprocessing\n",
    "from mpl_toolkits.mplot3d import Axes3D\n",
    "import random\n",
    "import sklearn\n",
    "from sklearn.datasets.samples_generator import make_regression \n",
    "import pylab\n",
    "from scipy import stats\n",
    "\n",
    "\n",
    "df = pd.read_csv('Project1_data.csv')\n",
    "\n",
    "# filer our rows with data post 2016\n",
    "df = df.loc[df['Year'] <= 2016]\n",
    "\n",
    "def gender_convert(x):\n",
    "    if (x == 'M'):\n",
    "        return 0\n",
    "    else:\n",
    "        return 1\n",
    "g = df.Sex.apply(gender_convert)\n",
    "df.Sex = g\n",
    "\n",
    "def check_2015(x):\n",
    "    if (x == 2015):\n",
    "        value = 1 \n",
    "    else:\n",
    "        value = 0\n",
    "    return value\n",
    "\n",
    "df['Participation_in_2015'] = df.Year.apply(check_2015)\n",
    "\n",
    "def check_2016(x):\n",
    "    if (x == 2016):\n",
    "        value = 1 \n",
    "    else:\n",
    "        value = 0\n",
    "    return value\n",
    "\n",
    "df['Participation_in_2016'] = df.Year.apply(check_2016)\n",
    "\n",
    "df['No_of_participations'] = df.groupby('Name')['Id'].transform('count')\n",
    "df.drop_duplicates()\n",
    "\n",
    "data_raw = df\n",
    "f = {'No_of_participations':['mean'],'Participation_in_2015':['sum'], 'Participation_in_2016':['sum'],'Age Category':['mean']}\n",
    "data_edited = data_raw.groupby(['Id','Name','Sex'],as_index=False).agg(f)\n",
    "data_edited.columns = data_edited.columns.droplevel(1)\n",
    "\n",
    "cols = [ 'Sex',\n",
    " 'Age Category',\n",
    " 'No_of_participations',\n",
    " 'Participation_in_2015',\n",
    " 'Participation_in_2016']\n",
    "data_edited = data_edited[cols]\n",
    "\n",
    "data_edited.to_csv(\"test.csv\")"
   ]
  },
  {
   "cell_type": "code",
   "execution_count": 12,
   "metadata": {
    "collapsed": false
   },
   "outputs": [
    {
     "data": {
      "text/plain": [
       "<bound method DataFrameGroupBy.size of <pandas.core.groupby.DataFrameGroupBy object at 0x000000000351AE80>>"
      ]
     },
     "execution_count": 12,
     "metadata": {},
     "output_type": "execute_result"
    }
   ],
   "source": [
    "data_raw.groupby(['Id']).size"
   ]
  },
  {
   "cell_type": "code",
   "execution_count": null,
   "metadata": {
    "collapsed": true
   },
   "outputs": [],
   "source": []
  },
  {
   "cell_type": "code",
   "execution_count": null,
   "metadata": {
    "collapsed": true
   },
   "outputs": [],
   "source": []
  },
  {
   "cell_type": "code",
   "execution_count": null,
   "metadata": {
    "collapsed": true
   },
   "outputs": [],
   "source": []
  },
  {
   "cell_type": "code",
   "execution_count": null,
   "metadata": {
    "collapsed": true
   },
   "outputs": [],
   "source": []
  },
  {
   "cell_type": "code",
   "execution_count": null,
   "metadata": {
    "collapsed": true
   },
   "outputs": [],
   "source": []
  },
  {
   "cell_type": "code",
   "execution_count": null,
   "metadata": {
    "collapsed": true
   },
   "outputs": [],
   "source": []
  },
  {
   "cell_type": "code",
   "execution_count": null,
   "metadata": {
    "collapsed": true
   },
   "outputs": [],
   "source": []
  },
  {
   "cell_type": "code",
   "execution_count": null,
   "metadata": {
    "collapsed": true
   },
   "outputs": [],
   "source": []
  },
  {
   "cell_type": "code",
   "execution_count": null,
   "metadata": {
    "collapsed": true
   },
   "outputs": [],
   "source": []
  },
  {
   "cell_type": "code",
   "execution_count": null,
   "metadata": {
    "collapsed": true
   },
   "outputs": [],
   "source": []
  }
 ],
 "metadata": {
  "anaconda-cloud": {},
  "kernelspec": {
   "display_name": "Python [conda root]",
   "language": "python",
   "name": "conda-root-py"
  },
  "language_info": {
   "codemirror_mode": {
    "name": "ipython",
    "version": 2
   },
   "file_extension": ".py",
   "mimetype": "text/x-python",
   "name": "python",
   "nbconvert_exporter": "python",
   "pygments_lexer": "ipython2",
   "version": "2.7.12"
  }
 },
 "nbformat": 4,
 "nbformat_minor": 1
}
