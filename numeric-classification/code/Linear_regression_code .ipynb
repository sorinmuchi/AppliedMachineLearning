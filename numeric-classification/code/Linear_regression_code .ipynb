{
 "cells": [
  {
   "cell_type": "code",
   "execution_count": 1,
   "metadata": {
    "collapsed": true
   },
   "outputs": [],
   "source": [
    "import matplotlib.pyplot as plt\n",
    "import numpy as np\n",
    "import pandas as pd\n",
    "from pandas import Series, DataFrame\n",
    "from sklearn import preprocessing\n",
    "from mpl_toolkits.mplot3d import Axes3D\n",
    "import random\n",
    "import sklearn\n",
    "from sklearn.datasets.samples_generator import make_regression \n",
    "import pylab\n",
    "from scipy import stats"
   ]
  },
  {
   "cell_type": "code",
   "execution_count": 2,
   "metadata": {
    "collapsed": true
   },
   "outputs": [],
   "source": [
    "df = pd.read_csv('Project1_data.csv')"
   ]
  },
  {
   "cell_type": "code",
   "execution_count": 3,
   "metadata": {
    "collapsed": false
   },
   "outputs": [],
   "source": [
    "#functions to format data\n",
    "df = df[df.Year != 2013]\n",
    "\n",
    "def time_convert(x):\n",
    "    times = x.split(':')\n",
    "    return (3600*int(times[0])+60*int(times[1]))+int(times[2])\n",
    "\n",
    "t = df.Time.apply(time_convert)\n",
    "df.Time = t\n",
    "\n",
    "def pace_convert(x):\n",
    "    times = x.split(':')\n",
    "    return (60*int(times[0])+int(times[1]))\n",
    "\n",
    "p = df.Pace.apply(pace_convert)\n",
    "df.Pace = p\n",
    "\n",
    "def gender_convert(x):\n",
    "    if (x == 'M'):\n",
    "        return 0\n",
    "    else:\n",
    "        return 1\n",
    "g = df.Sex.apply(gender_convert)\n",
    "df.Sex = g\n",
    "def check_professionals(x):\n",
    "    if (x >= 10800):\n",
    "        value = 1 \n",
    "    else:\n",
    "        value = 0\n",
    "    return value\n",
    "df['Pro_or_Amature'] = df.Time.apply(check_professionals)"
   ]
  },
  {
   "cell_type": "code",
   "execution_count": 4,
   "metadata": {
    "collapsed": false
   },
   "outputs": [],
   "source": [
    "df.columns=['Id','Name','Age','Sex','Rank','Time','Pace','Year','Pro_or_Amature']"
   ]
  },
  {
   "cell_type": "code",
   "execution_count": 5,
   "metadata": {
    "collapsed": false
   },
   "outputs": [],
   "source": [
    "#Normalize the data\n",
    "cols_to_norm = ['Age','Rank','Time']\n",
    "df[cols_to_norm] = df[cols_to_norm].apply(lambda x: (x - x.min()) / (x.max() - x.min()))"
   ]
  },
  {
   "cell_type": "code",
   "execution_count": 6,
   "metadata": {
    "collapsed": true
   },
   "outputs": [],
   "source": [
    "data_raw = df\n",
    "f = {'Age':['mean'],'Rank':['mean'],'Time':['mean']}\n",
    "data_editted = data_raw.groupby(['Id','Name','Sex','Pro_or_Amature'],as_index=False).agg(f)"
   ]
  },
  {
   "cell_type": "code",
   "execution_count": 7,
   "metadata": {
    "collapsed": true
   },
   "outputs": [],
   "source": [
    "data_editted.columns = data_editted.columns.droplevel(1)"
   ]
  },
  {
   "cell_type": "code",
   "execution_count": 8,
   "metadata": {
    "collapsed": true
   },
   "outputs": [],
   "source": [
    "#Separating the Y vector\n",
    "Y = data_editted.Time.values"
   ]
  },
  {
   "cell_type": "code",
   "execution_count": 9,
   "metadata": {
    "collapsed": true
   },
   "outputs": [],
   "source": [
    "#Seprating the X vector \n",
    "X= pd.concat([data_editted['Age'], data_editted['Rank'],data_editted['Pro_or_Amature'],data_editted['Sex']],axis=1)\n",
    "X1 = X.values\n",
    "X = np.insert(X1,0,1, axis=1)# adding a column of 1's for the bias term"
   ]
  },
  {
   "cell_type": "code",
   "execution_count": 10,
   "metadata": {
    "collapsed": false
   },
   "outputs": [
    {
     "name": "stderr",
     "output_type": "stream",
     "text": [
      "/Users/anilpatil/anaconda/lib/python2.7/site-packages/sklearn/cross_validation.py:44: DeprecationWarning: This module was deprecated in version 0.18 in favor of the model_selection module into which all the refactored classes and functions are moved. Also note that the interface of the new CV iterators are different from that of this module. This module will be removed in 0.20.\n",
      "  \"This module will be removed in 0.20.\", DeprecationWarning)\n"
     ]
    }
   ],
   "source": [
    "#Splitting the data in test and training set\n",
    "from sklearn.cross_validation import train_test_split\n",
    "X_train, X_test, Y_train,Y_test = train_test_split(X ,Y , test_size = 0.2, random_state = 0)"
   ]
  },
  {
   "cell_type": "code",
   "execution_count": 11,
   "metadata": {
    "collapsed": true
   },
   "outputs": [],
   "source": [
    "#Gradient Descent settings\n",
    "theta = np.random.random((X_train.shape[1]))/100\n",
    "iterations = 7500\n",
    "alpha = 0.01"
   ]
  },
  {
   "cell_type": "code",
   "execution_count": 12,
   "metadata": {
    "collapsed": true
   },
   "outputs": [],
   "source": [
    "def compute_cost(X, y, theta):\n",
    "    '''\n",
    "    Comput cost for linear regression\n",
    "    '''\n",
    "    m = y.size\n",
    "\n",
    "    hypothesis = X.dot(theta)\n",
    "\n",
    "    Errors = (hypothesis - y)\n",
    "\n",
    "    Cost = (1.0 / (2 * m)) * Errors.T.dot(Errors)\n",
    "\n",
    "    return Cost"
   ]
  },
  {
   "cell_type": "code",
   "execution_count": 13,
   "metadata": {
    "collapsed": true
   },
   "outputs": [],
   "source": [
    "def gradient_descent(X, y, theta, alpha, num_iters):\n",
    "    '''\n",
    "    Performs gradient descent to learn theta\n",
    "    by taking num_items gradient steps with learning\n",
    "    rate alpha\n",
    "    '''\n",
    "    m = y.size\n",
    "    cost_history = np.zeros(shape=(num_iters, 1))\n",
    "    convergence = False\n",
    "    for i in range(num_iters):\n",
    "        c = (X.dot(theta)-y)\n",
    "        c = c.T.dot(X)\n",
    "        theta = theta-alpha*(c/m)\n",
    "        cost_history[i, 0] = compute_cost(X, y, theta)\n",
    "        cost_temp = cost_history[i,0]\n",
    "        cost_previous = cost_history[i-1,0]\n",
    "\n",
    "   \n",
    "    plt.plot(cost_history)\n",
    "       # plt.axis([0, 5000,0,0.05])\n",
    "    plt.title(\"Progression of the cost function wrt number of iterations\\n\")\n",
    "    plt.ylabel(\"Cost Function\")\n",
    "    plt.xlabel(\"Number of Iterations\")\n",
    "    plt.show()\n",
    "    print \"Model Parameters:\"\n",
    "    print theta\n",
    "\n",
    "    return theta, cost_history"
   ]
  },
  {
   "cell_type": "code",
   "execution_count": 14,
   "metadata": {
    "collapsed": false
   },
   "outputs": [],
   "source": [
    "def Cross_validation(x,y,theta,w):\n",
    "    \n",
    "    # Implimenting Sklearn for comparision\n",
    "    from sklearn import linear_model\n",
    "    regr = linear_model.LinearRegression()\n",
    "    regr.fit(x,y)\n",
    "    Y_predict_sklearn = regr.predict(x)\n",
    "    \n",
    "\n",
    "    #calculating the residual error for gradient descent\n",
    "    y_pred_gd = np.dot(x,theta)\n",
    "    d1_gd = y-y_pred_gd\n",
    "    d2_gd = y-y_pred_gd.mean()\n",
    "    r2_gd = 1-  d1_gd.dot(d1_gd)/d2_gd.dot(d2_gd)\n",
    "    score_gd = (((y-y_pred_gd)**2).mean())\n",
    "    score1_gd= float((score_gd*26338)+3944)/float(120)\n",
    "    acc_gd= 1-score_gd\n",
    "    print \"Metrics with gradient descent in min:\"\n",
    "    print \"Mean Squared Error:\",score1_gd\n",
    "    print \"R-squared:\",r2_gd*100,\"%\"\n",
    "    print \"Accuracy:\",acc_gd*100\n",
    "    \n",
    "    y_pred_ne = np.dot(x,w)\n",
    "    d1_ne = y-y_pred_ne\n",
    "    d2_ne = y-y_pred_ne.mean()\n",
    "    r2_ne = 1-  d1_ne.dot(d1_ne)/d2_ne.dot(d2_ne)\n",
    "    score_ne = ((y-y_pred_ne)**2).mean()\n",
    "    score1_ne= float(((score_ne*26338)+3944))/float(120)\n",
    "    acc_ne= 1-score_gd\n",
    "    print \"\\nMetrics with normal equations:\"\n",
    "    print \"Mean Squared Error in min:\",score1_ne\n",
    "    print \"R-squared:\",r2_ne*100,\"%\"\n",
    "    print \"Accuracy:\",acc_ne*100\n",
    "    \n",
    "    print \"\\nVerifying metrics with Scikit Learn\"\n",
    "    d1 = y-Y_predict_sklearn\n",
    "    d2 = y-Y_predict_sklearn.mean()\n",
    "    r2 = 1-  d1.dot(d1)/d2_gd.dot(d2) \n",
    "    score = ((y-Y_predict_sklearn)**2).mean()\n",
    "    score1= float(((score*26338)+3944))/float(120)\n",
    "    acc = 1-score\n",
    "    print \"Mean Squared Error with Sklearn in min:\",score1\n",
    "    print \"R-squared with Sklearn:\",r2_gd*100,\"%\"\n",
    "    print \"Accuracy with Sklearn:\",acc_gd*100\n",
    "    "
   ]
  },
  {
   "cell_type": "code",
   "execution_count": 15,
   "metadata": {
    "collapsed": false
   },
   "outputs": [
    {
     "data": {
      "image/png": "[encoded data removed]",
      "text/plain": [
       "<matplotlib.figure.Figure at 0x10f2d6d10>"
      ]
     },
     "metadata": {},
     "output_type": "display_data"
    },
    {
     "name": "stdout",
     "output_type": "stream",
     "text": [
      "Model Parameters:\n",
      "[ 0.07379468  0.04208823  0.491023    0.10238142  0.01777027]\n"
     ]
    }
   ],
   "source": [
    "#computing the initial cost\n",
    "cost_initial=compute_cost(X_train,Y_train,theta)\n",
    "theta , cost = gradient_descent(X_train,Y_train,theta,alpha,iterations)"
   ]
  },
  {
   "cell_type": "code",
   "execution_count": 16,
   "metadata": {
    "collapsed": true
   },
   "outputs": [],
   "source": [
    "# Linear regression using the closed form implementation:\n",
    "w_normalequations= np.linalg.solve(np.dot(X_train.T,X_train),np.dot(X_train.T,Y_train))"
   ]
  },
  {
   "cell_type": "code",
   "execution_count": 17,
   "metadata": {
    "collapsed": false
   },
   "outputs": [
    {
     "name": "stdout",
     "output_type": "stream",
     "text": [
      "Cross Validation on training data:\n",
      "\n",
      "Metrics with gradient descent in min:\n",
      "Mean Squared Error: 33.6234039841\n",
      "R-squared: 81.2504676025 %\n",
      "Accuracy: 99.6552187786\n",
      "\n",
      "Metrics with normal equations:\n",
      "Mean Squared Error in min: 33.6213625898\n",
      "R-squared: 81.3010369853 %\n",
      "Accuracy: 99.6552187786\n",
      "\n",
      "Verifying metrics with Scikit Learn\n",
      "Mean Squared Error with Sklearn in min: 33.6213625898\n",
      "R-squared with Sklearn: 81.2504676025 %\n",
      "Accuracy with Sklearn: 99.6552187786\n",
      "\n",
      "Cross Validation on test data:\n",
      "\n",
      "Metrics with gradient descent in min:\n",
      "Mean Squared Error: 33.6698275299\n",
      "R-squared: 80.568819792 %\n",
      "Accuracy: 99.6340674934\n",
      "\n",
      "Metrics with normal equations:\n",
      "Mean Squared Error in min: 33.6660504179\n",
      "R-squared: 80.6602949888 %\n",
      "Accuracy: 99.6340674934\n",
      "\n",
      "Verifying metrics with Scikit Learn\n",
      "Mean Squared Error with Sklearn in min: 33.6642184191\n",
      "R-squared with Sklearn: 80.568819792 %\n",
      "Accuracy with Sklearn: 99.6340674934\n"
     ]
    }
   ],
   "source": [
    "print \"Cross Validation on training data:\\n\"\n",
    "Cross_validation(X_train,Y_train,theta,w_normalequations)\n",
    "print \"\\nCross Validation on test data:\\n\"\n",
    "Cross_validation(X_test,Y_test,theta,w_normalequations)"
   ]
  },
  {
   "cell_type": "code",
   "execution_count": 18,
   "metadata": {
    "collapsed": true
   },
   "outputs": [],
   "source": [
    "#Generating the prediciton file\n",
    "df_final=pd.read_csv('Project1_data.csv')"
   ]
  },
  {
   "cell_type": "code",
   "execution_count": 19,
   "metadata": {
    "collapsed": false
   },
   "outputs": [],
   "source": [
    "t1 = df_final.Time.apply(time_convert)\n",
    "df_final.Time = t1"
   ]
  },
  {
   "cell_type": "code",
   "execution_count": 20,
   "metadata": {
    "collapsed": true
   },
   "outputs": [],
   "source": [
    "g1 = df_final.Sex.apply(gender_convert)\n",
    "df_final.Sex = g1\n",
    "df_final['Pro_or_Amature'] = df_final.Time.apply(check_professionals)"
   ]
  },
  {
   "cell_type": "code",
   "execution_count": 21,
   "metadata": {
    "collapsed": false
   },
   "outputs": [],
   "source": [
    "f = {'Age Category':['mean'],'Rank':['mean'],'Time':['mean']}\n",
    "df_final = df_final.groupby(['Id','Name','Sex','Pro_or_Amature'],as_index=False).agg(f)"
   ]
  },
  {
   "cell_type": "code",
   "execution_count": 22,
   "metadata": {
    "collapsed": false
   },
   "outputs": [],
   "source": [
    "df_final.columns = df_final.columns.droplevel(1)"
   ]
  },
  {
   "cell_type": "code",
   "execution_count": 23,
   "metadata": {
    "collapsed": true
   },
   "outputs": [],
   "source": [
    "Y_final = df_final.Time.values\n",
    "#Seprating the X vector \n",
    "X_final= pd.concat([df_final['Age Category'], df_final['Rank'],df_final['Pro_or_Amature'],df_final['Sex']],axis=1)\n",
    "X1_final = X_final.values\n",
    "X_final = np.insert(X1_final,0,1, axis=1)# adding a column of 1's for the bias term"
   ]
  },
  {
   "cell_type": "code",
   "execution_count": 24,
   "metadata": {
    "collapsed": false
   },
   "outputs": [],
   "source": [
    "Y_final_prediction = np.dot(X_final,theta)"
   ]
  },
  {
   "cell_type": "code",
   "execution_count": 25,
   "metadata": {
    "collapsed": false
   },
   "outputs": [
    {
     "data": {
      "text/plain": [
       "array([  621.60086647,  1126.65310689,  1119.02493128, ...,   253.00066753,\n",
       "         315.90398137,     6.66755389])"
      ]
     },
     "execution_count": 25,
     "metadata": {},
     "output_type": "execute_result"
    }
   ],
   "source": [
    "Y_final_prediction"
   ]
  },
  {
   "cell_type": "code",
   "execution_count": 26,
   "metadata": {
    "collapsed": true
   },
   "outputs": [],
   "source": [
    "#Converting Time in hh:mm:ss format\n",
    "t = []#np.zeros(shape=(df_final_predict.Time.count(), 0))\n",
    "import datetime\n",
    "for i in range (0,Y_final_prediction.shape[0]):\n",
    "    t.append(str(datetime.timedelta(seconds = Y_final_prediction[i])))\n",
    "time = np.array(t)"
   ]
  },
  {
   "cell_type": "code",
   "execution_count": 27,
   "metadata": {
    "collapsed": false
   },
   "outputs": [],
   "source": [
    "Data_submit = pd.concat([df_final['Id'],df_final['Name']],axis = 1)"
   ]
  },
  {
   "cell_type": "code",
   "execution_count": 28,
   "metadata": {
    "collapsed": false
   },
   "outputs": [],
   "source": [
    "Data_submit['Time']= time"
   ]
  },
  {
   "cell_type": "code",
   "execution_count": 29,
   "metadata": {
    "collapsed": false
   },
   "outputs": [],
   "source": [
    "Data_submit.to_csv('Results.csv',index_col = False)"
   ]
  },
  {
   "cell_type": "code",
   "execution_count": null,
   "metadata": {
    "collapsed": true
   },
   "outputs": [],
   "source": []
  },
  {
   "cell_type": "code",
   "execution_count": null,
   "metadata": {
    "collapsed": true
   },
   "outputs": [],
   "source": []
  }
 ],
 "metadata": {
  "anaconda-cloud": {},
  "kernelspec": {
   "display_name": "Python [conda root]",
   "language": "python",
   "name": "conda-root-py"
  },
  "language_info": {
   "codemirror_mode": {
    "name": "ipython",
    "version": 2
   },
   "file_extension": ".py",
   "mimetype": "text/x-python",
   "name": "python",
   "nbconvert_exporter": "python",
   "pygments_lexer": "ipython2",
   "version": "2.7.12"
  }
 },
 "nbformat": 4,
 "nbformat_minor": 1
}
